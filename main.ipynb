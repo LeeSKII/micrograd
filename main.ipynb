{
 "cells": [
  {
   "cell_type": "code",
   "execution_count": 25,
   "id": "f363e05a-d47f-4a36-928f-22dda26502ab",
   "metadata": {},
   "outputs": [],
   "source": [
    "import numpy as np\n",
    "import math"
   ]
  },
  {
   "cell_type": "code",
   "execution_count": 33,
   "id": "f8f03b05-da27-4407-9623-8784adcc62ee",
   "metadata": {},
   "outputs": [
    {
     "data": {
      "text/plain": [
       "array([100.    ,  91.6875,  83.75  ,  76.1875,  69.    ,  62.1875,\n",
       "        55.75  ,  49.6875,  44.    ,  38.6875,  33.75  ,  29.1875,\n",
       "        25.    ,  21.1875,  17.75  ,  14.6875,  12.    ,   9.6875,\n",
       "         7.75  ,   6.1875,   5.    ,   4.1875,   3.75  ,   3.6875,\n",
       "         4.    ,   4.6875,   5.75  ,   7.1875,   9.    ,  11.1875,\n",
       "        13.75  ,  16.6875,  20.    ,  23.6875,  27.75  ,  32.1875,\n",
       "        37.    ,  42.1875,  47.75  ,  53.6875])"
      ]
     },
     "execution_count": 33,
     "metadata": {},
     "output_type": "execute_result"
    }
   ],
   "source": [
    "def f(x):\n",
    "    return 3*x**2 - 4*x + 5\n",
    "\n",
    "x = np.arange(-5,5,0.25)\n",
    "\n",
    "y = f(x)\n",
    "y"
   ]
  },
  {
   "cell_type": "code",
   "execution_count": 30,
   "id": "1a2ed7e1-c8fd-411c-85e4-608663888d90",
   "metadata": {},
   "outputs": [],
   "source": [
    "import matplotlib.pyplot as plt"
   ]
  },
  {
   "cell_type": "code",
   "execution_count": 32,
   "id": "dddf24b5-d9c3-4c60-bc15-a998ba1addcf",
   "metadata": {},
   "outputs": [],
   "source": [
    "#plt.plot(x,y)"
   ]
  },
  {
   "cell_type": "code",
   "execution_count": 34,
   "id": "512ba43c-0ced-4985-a35b-a1bdccd642e7",
   "metadata": {},
   "outputs": [
    {
     "data": {
      "text/plain": [
       "60.0"
      ]
     },
     "execution_count": 34,
     "metadata": {},
     "output_type": "execute_result"
    }
   ],
   "source": [
    "f(5.0)"
   ]
  },
  {
   "cell_type": "code",
   "execution_count": 41,
   "id": "a3ad406d-0354-4c18-8be7-865cbb3b73f3",
   "metadata": {},
   "outputs": [
    {
     "data": {
      "text/plain": [
       "14.029999999999632"
      ]
     },
     "execution_count": 41,
     "metadata": {},
     "output_type": "execute_result"
    }
   ],
   "source": [
    "# derivative means senstive of function in that point, bigger positive means slope x a little distance makes fucntion become bigger\n",
    "h = 0.01\n",
    "a=3.0\n",
    "def dx(a):\n",
    "    return (f(a+h)-f(a))/h\n",
    "dx(a)"
   ]
  },
  {
   "cell_type": "code",
   "execution_count": 42,
   "id": "78fdbb5b-f460-4239-aaca-88ad024e2f36",
   "metadata": {},
   "outputs": [
    {
     "data": {
      "text/plain": [
       "-21.9699999999996"
      ]
     },
     "execution_count": 42,
     "metadata": {},
     "output_type": "execute_result"
    }
   ],
   "source": [
    "a=-3.0\n",
    "dx(a)"
   ]
  },
  {
   "cell_type": "code",
   "execution_count": 43,
   "id": "d0c7971f-1b9a-41ec-9af5-90ca7233c265",
   "metadata": {},
   "outputs": [
    {
     "data": {
      "text/plain": [
       "0.02999999999997449"
      ]
     },
     "execution_count": 43,
     "metadata": {},
     "output_type": "execute_result"
    }
   ],
   "source": [
    "dx(2/3)"
   ]
  },
  {
   "cell_type": "code",
   "execution_count": 47,
   "id": "4be256b2-1068-4e01-ba3b-bfc6a7c523e4",
   "metadata": {},
   "outputs": [
    {
     "name": "stdout",
     "output_type": "stream",
     "text": [
      "d1: 4.0\n",
      "d2: 3.997\n",
      "slop: -3.0000000000001137\n"
     ]
    }
   ],
   "source": [
    "h = 0.001\n",
    "\n",
    "#inputs\n",
    "a=2.0\n",
    "b=-3.0\n",
    "c=10.0\n",
    "\n",
    "d1 = a*b+c\n",
    "a+=h\n",
    "d2 = a*b+c\n",
    "print(\"d1:\",d1)\n",
    "print(\"d2:\",d2)\n",
    "print(\"slop:\",(d2-d1)/h)"
   ]
  },
  {
   "cell_type": "code",
   "execution_count": null,
   "id": "2d84693f-e392-4392-a79d-2d44b9a2cc47",
   "metadata": {},
   "outputs": [],
   "source": []
  }
 ],
 "metadata": {
  "kernelspec": {
   "display_name": "Python 3 (ipykernel)",
   "language": "python",
   "name": "python3"
  },
  "language_info": {
   "codemirror_mode": {
    "name": "ipython",
    "version": 3
   },
   "file_extension": ".py",
   "mimetype": "text/x-python",
   "name": "python",
   "nbconvert_exporter": "python",
   "pygments_lexer": "ipython3",
   "version": "3.12.6"
  }
 },
 "nbformat": 4,
 "nbformat_minor": 5
}
