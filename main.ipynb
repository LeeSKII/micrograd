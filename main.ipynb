{
 "cells": [
  {
   "cell_type": "code",
   "execution_count": 98,
   "id": "f363e05a-d47f-4a36-928f-22dda26502ab",
   "metadata": {},
   "outputs": [],
   "source": [
    "import numpy as np\n",
    "import math"
   ]
  },
  {
   "cell_type": "code",
   "execution_count": 99,
   "id": "f8f03b05-da27-4407-9623-8784adcc62ee",
   "metadata": {},
   "outputs": [
    {
     "data": {
      "text/plain": [
       "array([100.    ,  91.6875,  83.75  ,  76.1875,  69.    ,  62.1875,\n",
       "        55.75  ,  49.6875,  44.    ,  38.6875,  33.75  ,  29.1875,\n",
       "        25.    ,  21.1875,  17.75  ,  14.6875,  12.    ,   9.6875,\n",
       "         7.75  ,   6.1875,   5.    ,   4.1875,   3.75  ,   3.6875,\n",
       "         4.    ,   4.6875,   5.75  ,   7.1875,   9.    ,  11.1875,\n",
       "        13.75  ,  16.6875,  20.    ,  23.6875,  27.75  ,  32.1875,\n",
       "        37.    ,  42.1875,  47.75  ,  53.6875])"
      ]
     },
     "execution_count": 99,
     "metadata": {},
     "output_type": "execute_result"
    }
   ],
   "source": [
    "def f(x):\n",
    "    return 3*x**2 - 4*x + 5\n",
    "\n",
    "x = np.arange(-5,5,0.25)\n",
    "\n",
    "y = f(x)\n",
    "y"
   ]
  },
  {
   "cell_type": "code",
   "execution_count": 100,
   "id": "1a2ed7e1-c8fd-411c-85e4-608663888d90",
   "metadata": {},
   "outputs": [],
   "source": [
    "import matplotlib.pyplot as plt"
   ]
  },
  {
   "cell_type": "code",
   "execution_count": 101,
   "id": "dddf24b5-d9c3-4c60-bc15-a998ba1addcf",
   "metadata": {},
   "outputs": [],
   "source": [
    "#plt.plot(x,y)"
   ]
  },
  {
   "cell_type": "code",
   "execution_count": 102,
   "id": "512ba43c-0ced-4985-a35b-a1bdccd642e7",
   "metadata": {},
   "outputs": [
    {
     "data": {
      "text/plain": [
       "60.0"
      ]
     },
     "execution_count": 102,
     "metadata": {},
     "output_type": "execute_result"
    }
   ],
   "source": [
    "f(5.0)"
   ]
  },
  {
   "cell_type": "code",
   "execution_count": 103,
   "id": "a3ad406d-0354-4c18-8be7-865cbb3b73f3",
   "metadata": {},
   "outputs": [
    {
     "data": {
      "text/plain": [
       "14.029999999999632"
      ]
     },
     "execution_count": 103,
     "metadata": {},
     "output_type": "execute_result"
    }
   ],
   "source": [
    "# derivative means senstive of function in that point, bigger positive means slope x a little distance makes fucntion become bigger\n",
    "h = 0.01\n",
    "a=3.0\n",
    "def dx(a):\n",
    "    return (f(a+h)-f(a))/h\n",
    "dx(a)"
   ]
  },
  {
   "cell_type": "code",
   "execution_count": 104,
   "id": "78fdbb5b-f460-4239-aaca-88ad024e2f36",
   "metadata": {},
   "outputs": [
    {
     "data": {
      "text/plain": [
       "-21.9699999999996"
      ]
     },
     "execution_count": 104,
     "metadata": {},
     "output_type": "execute_result"
    }
   ],
   "source": [
    "a=-3.0\n",
    "dx(a)"
   ]
  },
  {
   "cell_type": "code",
   "execution_count": 105,
   "id": "d0c7971f-1b9a-41ec-9af5-90ca7233c265",
   "metadata": {},
   "outputs": [
    {
     "data": {
      "text/plain": [
       "0.02999999999997449"
      ]
     },
     "execution_count": 105,
     "metadata": {},
     "output_type": "execute_result"
    }
   ],
   "source": [
    "dx(2/3)"
   ]
  },
  {
   "cell_type": "code",
   "execution_count": 106,
   "id": "4be256b2-1068-4e01-ba3b-bfc6a7c523e4",
   "metadata": {},
   "outputs": [
    {
     "name": "stdout",
     "output_type": "stream",
     "text": [
      "d1: 4.0\n",
      "d2: 3.997\n",
      "slop: -3.0000000000001137\n"
     ]
    }
   ],
   "source": [
    "h = 0.001\n",
    "\n",
    "#inputs\n",
    "a=2.0\n",
    "b=-3.0\n",
    "c=10.0\n",
    "\n",
    "d1 = a*b+c\n",
    "a+=h\n",
    "d2 = a*b+c\n",
    "print(\"d1:\",d1)\n",
    "print(\"d2:\",d2)\n",
    "print(\"slop:\",(d2-d1)/h)"
   ]
  },
  {
   "cell_type": "code",
   "execution_count": 107,
   "id": "2d84693f-e392-4392-a79d-2d44b9a2cc47",
   "metadata": {},
   "outputs": [],
   "source": [
    "class Value:\n",
    "    def __init__(self,data,_children=(),_op=\"\",label=\"\"):\n",
    "        self.data = data\n",
    "        self._prev = set(_children)\n",
    "        self._op = _op\n",
    "        self.label = label\n",
    "        self.grad=0\n",
    "    # help print something better\n",
    "    def __repr__(self):\n",
    "        return f\"Value(data={self.data})\"\n",
    "    # override operation + ,it will use a.__add__(b)\n",
    "    def __add__(self,other):\n",
    "        if(isinstance(other,float)):\n",
    "            return Value(self.data+other,(self,other),\"+\")\n",
    "        return Value(self.data+other.data,(self,other),\"+\")\n",
    "    def __mul__(self,other):\n",
    "        return Value(self.data*other.data,(self,other),\"*\")\n",
    "        "
   ]
  },
  {
   "cell_type": "code",
   "execution_count": 108,
   "id": "4e2602af-e66a-49fd-8fb4-0fc70c0aa8a2",
   "metadata": {},
   "outputs": [
    {
     "name": "stdout",
     "output_type": "stream",
     "text": [
      "a+b = Value(data=-1.0)\n",
      "a*b = Value(data=-6.0)\n",
      "a*b+c = d=Value(data=4.0)\n",
      "{Value(data=Value(data=2.0)), Value(data=Value(data=-3.0))}\n",
      "+\n"
     ]
    }
   ],
   "source": [
    "a = Value(2.0,label='a')\n",
    "b = Value(-3.0,label='b')\n",
    "print(f\"a+b = {a+b}\")\n",
    "print(f\"a*b = {a*b}\")\n",
    "c = Value(c,label=\"c\")\n",
    "e = a*b\n",
    "e.label = \"e\"\n",
    "d = e+c\n",
    "d.label = 'd'\n",
    "f = Value(-2.0,label=\"f\")\n",
    "L = f*d\n",
    "L.label = \"L\"\n",
    "print(f\"a*b+c = d={d}\")\n",
    "z = Value(a)+Value(b)\n",
    "print(f\"{z._prev}\")\n",
    "print(f\"{z._op}\")"
   ]
  },
  {
   "cell_type": "code",
   "execution_count": 109,
   "id": "63918a48-dd47-4045-b9d3-ad285b63f06a",
   "metadata": {},
   "outputs": [],
   "source": [
    "import os\n",
    "# print(os.environ)\n",
    "# 手动增加环境变量\n",
    "os.environ[\"PATH\"] += os.pathsep + 'C:\\\\Program Files\\\\Graphviz\\\\bin'"
   ]
  },
  {
   "cell_type": "code",
   "execution_count": 110,
   "id": "69640928-8684-4e68-9e6e-a929f0fdda51",
   "metadata": {},
   "outputs": [],
   "source": [
    "# pip install graphviz\n",
    "from graphviz import Digraph\n",
    "def trace(root):\n",
    "    nodes, edges = set(), set()\n",
    "    def build(v):\n",
    "        if v not in nodes:\n",
    "            nodes.add(v)\n",
    "            for child in v._prev:\n",
    "                edges.add((child, v))\n",
    "                build(child)\n",
    "    build(root)\n",
    "    return nodes, edges\n",
    "\n",
    "def draw_dot(root, format='svg', rankdir='LR'):\n",
    "    \"\"\"\n",
    "    format: png | svg | ...\n",
    "    rankdir: TB (top to bottom graph) | LR (left to right)\n",
    "    \"\"\"\n",
    "    assert rankdir in ['LR', 'TB']\n",
    "    nodes, edges = trace(root)\n",
    "    dot = Digraph(format=format, graph_attr={'rankdir': rankdir}) #, node_attr={'rankdir': 'TB'})\n",
    "    \n",
    "    for n in nodes:\n",
    "        dot.node(name=str(id(n)), label = \"{ %s | data %.4f | grad %.2f }\" % (n.label,n.data,n.grad), shape='record')\n",
    "        if n._op:\n",
    "            dot.node(name=str(id(n)) + n._op, label=n._op)\n",
    "            dot.edge(str(id(n)) + n._op, str(id(n)))\n",
    "    \n",
    "    for n1, n2 in edges:\n",
    "        dot.edge(str(id(n1)), str(id(n2)) + n2._op)\n",
    "    \n",
    "    return dot"
   ]
  },
  {
   "cell_type": "code",
   "execution_count": 113,
   "id": "4916bd9c-9a91-41a4-bee7-a55665647f44",
   "metadata": {},
   "outputs": [
    {
     "data": {
      "image/svg+xml": [
       "<?xml version=\"1.0\" encoding=\"UTF-8\" standalone=\"no\"?>\n",
       "<!DOCTYPE svg PUBLIC \"-//W3C//DTD SVG 1.1//EN\"\n",
       " \"http://www.w3.org/Graphics/SVG/1.1/DTD/svg11.dtd\">\n",
       "<!-- Generated by graphviz version 12.1.2 (20240928.0832)\n",
       " -->\n",
       "<!-- Pages: 1 -->\n",
       "<svg width=\"1086pt\" height=\"156pt\"\n",
       " viewBox=\"0.00 0.00 1085.75 156.00\" xmlns=\"http://www.w3.org/2000/svg\" xmlns:xlink=\"http://www.w3.org/1999/xlink\">\n",
       "<g id=\"graph0\" class=\"graph\" transform=\"scale(1 1) rotate(0) translate(4 152)\">\n",
       "<polygon fill=\"white\" stroke=\"none\" points=\"-4,4 -4,-152 1081.75,-152 1081.75,4 -4,4\"/>\n",
       "<!-- 2654535420576 -->\n",
       "<g id=\"node1\" class=\"node\">\n",
       "<title>2654535420576</title>\n",
       "<polygon fill=\"none\" stroke=\"black\" points=\"2.62,-111.5 2.62,-147.5 172.12,-147.5 172.12,-111.5 2.62,-111.5\"/>\n",
       "<text text-anchor=\"middle\" x=\"13.62\" y=\"-124.7\" font-family=\"Times New Roman,serif\" font-size=\"14.00\">a</text>\n",
       "<polyline fill=\"none\" stroke=\"black\" points=\"24.62,-112 24.62,-147.5\"/>\n",
       "<text text-anchor=\"middle\" x=\"64.5\" y=\"-124.7\" font-family=\"Times New Roman,serif\" font-size=\"14.00\">data 2.0000</text>\n",
       "<polyline fill=\"none\" stroke=\"black\" points=\"104.38,-112 104.38,-147.5\"/>\n",
       "<text text-anchor=\"middle\" x=\"138.25\" y=\"-124.7\" font-family=\"Times New Roman,serif\" font-size=\"14.00\">grad 0.00</text>\n",
       "</g>\n",
       "<!-- 2654535422256* -->\n",
       "<g id=\"node6\" class=\"node\">\n",
       "<title>2654535422256*</title>\n",
       "<ellipse fill=\"none\" stroke=\"black\" cx=\"237.75\" cy=\"-101.5\" rx=\"27\" ry=\"18\"/>\n",
       "<text text-anchor=\"middle\" x=\"237.75\" y=\"-96.45\" font-family=\"Times New Roman,serif\" font-size=\"14.00\">*</text>\n",
       "</g>\n",
       "<!-- 2654535420576&#45;&gt;2654535422256* -->\n",
       "<g id=\"edge6\" class=\"edge\">\n",
       "<title>2654535420576&#45;&gt;2654535422256*</title>\n",
       "<path fill=\"none\" stroke=\"black\" d=\"M172.53,-113.62C182.25,-111.79 191.73,-110 200.29,-108.38\"/>\n",
       "<polygon fill=\"black\" stroke=\"black\" points=\"200.68,-111.87 209.86,-106.58 199.38,-104.99 200.68,-111.87\"/>\n",
       "</g>\n",
       "<!-- 2654535422640 -->\n",
       "<g id=\"node2\" class=\"node\">\n",
       "<title>2654535422640</title>\n",
       "<polygon fill=\"none\" stroke=\"black\" points=\"0,-56.5 0,-92.5 174.75,-92.5 174.75,-56.5 0,-56.5\"/>\n",
       "<text text-anchor=\"middle\" x=\"11.38\" y=\"-69.7\" font-family=\"Times New Roman,serif\" font-size=\"14.00\">b</text>\n",
       "<polyline fill=\"none\" stroke=\"black\" points=\"22.75,-57 22.75,-92.5\"/>\n",
       "<text text-anchor=\"middle\" x=\"64.88\" y=\"-69.7\" font-family=\"Times New Roman,serif\" font-size=\"14.00\">data &#45;3.0000</text>\n",
       "<polyline fill=\"none\" stroke=\"black\" points=\"107,-57 107,-92.5\"/>\n",
       "<text text-anchor=\"middle\" x=\"140.88\" y=\"-69.7\" font-family=\"Times New Roman,serif\" font-size=\"14.00\">grad 0.00</text>\n",
       "</g>\n",
       "<!-- 2654535422640&#45;&gt;2654535422256* -->\n",
       "<g id=\"edge8\" class=\"edge\">\n",
       "<title>2654535422640&#45;&gt;2654535422256*</title>\n",
       "<path fill=\"none\" stroke=\"black\" d=\"M175.11,-90.28C183.87,-91.88 192.39,-93.43 200.16,-94.84\"/>\n",
       "<polygon fill=\"black\" stroke=\"black\" points=\"199.36,-98.25 209.83,-96.6 200.62,-91.37 199.36,-98.25\"/>\n",
       "</g>\n",
       "<!-- 2654535432432 -->\n",
       "<g id=\"node3\" class=\"node\">\n",
       "<title>2654535432432</title>\n",
       "<polygon fill=\"none\" stroke=\"black\" points=\"901.5,-27.5 901.5,-63.5 1077.75,-63.5 1077.75,-27.5 901.5,-27.5\"/>\n",
       "<text text-anchor=\"middle\" x=\"913.62\" y=\"-40.7\" font-family=\"Times New Roman,serif\" font-size=\"14.00\">L</text>\n",
       "<polyline fill=\"none\" stroke=\"black\" points=\"925.75,-28 925.75,-63.5\"/>\n",
       "<text text-anchor=\"middle\" x=\"967.88\" y=\"-40.7\" font-family=\"Times New Roman,serif\" font-size=\"14.00\">data &#45;8.0000</text>\n",
       "<polyline fill=\"none\" stroke=\"black\" points=\"1010,-28 1010,-63.5\"/>\n",
       "<text text-anchor=\"middle\" x=\"1043.88\" y=\"-40.7\" font-family=\"Times New Roman,serif\" font-size=\"14.00\">grad 1.00</text>\n",
       "</g>\n",
       "<!-- 2654535432432* -->\n",
       "<g id=\"node4\" class=\"node\">\n",
       "<title>2654535432432*</title>\n",
       "<ellipse fill=\"none\" stroke=\"black\" cx=\"838.5\" cy=\"-45.5\" rx=\"27\" ry=\"18\"/>\n",
       "<text text-anchor=\"middle\" x=\"838.5\" y=\"-40.45\" font-family=\"Times New Roman,serif\" font-size=\"14.00\">*</text>\n",
       "</g>\n",
       "<!-- 2654535432432*&#45;&gt;2654535432432 -->\n",
       "<g id=\"edge1\" class=\"edge\">\n",
       "<title>2654535432432*&#45;&gt;2654535432432</title>\n",
       "<path fill=\"none\" stroke=\"black\" d=\"M865.82,-45.5C872.99,-45.5 881.21,-45.5 889.92,-45.5\"/>\n",
       "<polygon fill=\"black\" stroke=\"black\" points=\"889.66,-49 899.66,-45.5 889.66,-42 889.66,-49\"/>\n",
       "</g>\n",
       "<!-- 2654535422256 -->\n",
       "<g id=\"node5\" class=\"node\">\n",
       "<title>2654535422256</title>\n",
       "<polygon fill=\"none\" stroke=\"black\" points=\"301.88,-83.5 301.88,-119.5 475.88,-119.5 475.88,-83.5 301.88,-83.5\"/>\n",
       "<text text-anchor=\"middle\" x=\"312.88\" y=\"-96.7\" font-family=\"Times New Roman,serif\" font-size=\"14.00\">e</text>\n",
       "<polyline fill=\"none\" stroke=\"black\" points=\"323.88,-84 323.88,-119.5\"/>\n",
       "<text text-anchor=\"middle\" x=\"366\" y=\"-96.7\" font-family=\"Times New Roman,serif\" font-size=\"14.00\">data &#45;6.0000</text>\n",
       "<polyline fill=\"none\" stroke=\"black\" points=\"408.12,-84 408.12,-119.5\"/>\n",
       "<text text-anchor=\"middle\" x=\"442\" y=\"-96.7\" font-family=\"Times New Roman,serif\" font-size=\"14.00\">grad 0.00</text>\n",
       "</g>\n",
       "<!-- 2654535422784+ -->\n",
       "<g id=\"node8\" class=\"node\">\n",
       "<title>2654535422784+</title>\n",
       "<ellipse fill=\"none\" stroke=\"black\" cx=\"540\" cy=\"-73.5\" rx=\"27\" ry=\"18\"/>\n",
       "<text text-anchor=\"middle\" x=\"540\" y=\"-68.45\" font-family=\"Times New Roman,serif\" font-size=\"14.00\">+</text>\n",
       "</g>\n",
       "<!-- 2654535422256&#45;&gt;2654535422784+ -->\n",
       "<g id=\"edge4\" class=\"edge\">\n",
       "<title>2654535422256&#45;&gt;2654535422784+</title>\n",
       "<path fill=\"none\" stroke=\"black\" d=\"M476.19,-85.29C485.36,-83.57 494.3,-81.89 502.41,-80.37\"/>\n",
       "<polygon fill=\"black\" stroke=\"black\" points=\"502.97,-83.83 512.15,-78.54 501.68,-76.95 502.97,-83.83\"/>\n",
       "</g>\n",
       "<!-- 2654535422256*&#45;&gt;2654535422256 -->\n",
       "<g id=\"edge2\" class=\"edge\">\n",
       "<title>2654535422256*&#45;&gt;2654535422256</title>\n",
       "<path fill=\"none\" stroke=\"black\" d=\"M265.07,-101.5C272.56,-101.5 281.19,-101.5 290.32,-101.5\"/>\n",
       "<polygon fill=\"black\" stroke=\"black\" points=\"290.17,-105 300.17,-101.5 290.17,-98 290.17,-105\"/>\n",
       "</g>\n",
       "<!-- 2654535422784 -->\n",
       "<g id=\"node7\" class=\"node\">\n",
       "<title>2654535422784</title>\n",
       "<polygon fill=\"none\" stroke=\"black\" points=\"604.12,-55.5 604.12,-91.5 774.38,-91.5 774.38,-55.5 604.12,-55.5\"/>\n",
       "<text text-anchor=\"middle\" x=\"615.5\" y=\"-68.7\" font-family=\"Times New Roman,serif\" font-size=\"14.00\">d</text>\n",
       "<polyline fill=\"none\" stroke=\"black\" points=\"626.88,-56 626.88,-91.5\"/>\n",
       "<text text-anchor=\"middle\" x=\"666.75\" y=\"-68.7\" font-family=\"Times New Roman,serif\" font-size=\"14.00\">data 4.0000</text>\n",
       "<polyline fill=\"none\" stroke=\"black\" points=\"706.62,-56 706.62,-91.5\"/>\n",
       "<text text-anchor=\"middle\" x=\"740.5\" y=\"-68.7\" font-family=\"Times New Roman,serif\" font-size=\"14.00\">grad 2.00</text>\n",
       "</g>\n",
       "<!-- 2654535422784&#45;&gt;2654535432432* -->\n",
       "<g id=\"edge9\" class=\"edge\">\n",
       "<title>2654535422784&#45;&gt;2654535432432*</title>\n",
       "<path fill=\"none\" stroke=\"black\" d=\"M774.63,-57.46C783.78,-55.72 792.7,-54.02 800.82,-52.47\"/>\n",
       "<polygon fill=\"black\" stroke=\"black\" points=\"801.41,-55.93 810.58,-50.62 800.1,-49.05 801.41,-55.93\"/>\n",
       "</g>\n",
       "<!-- 2654535422784+&#45;&gt;2654535422784 -->\n",
       "<g id=\"edge3\" class=\"edge\">\n",
       "<title>2654535422784+&#45;&gt;2654535422784</title>\n",
       "<path fill=\"none\" stroke=\"black\" d=\"M567.33,-73.5C574.79,-73.5 583.39,-73.5 592.48,-73.5\"/>\n",
       "<polygon fill=\"black\" stroke=\"black\" points=\"592.26,-77 602.26,-73.5 592.26,-70 592.26,-77\"/>\n",
       "</g>\n",
       "<!-- 2654535422304 -->\n",
       "<g id=\"node9\" class=\"node\">\n",
       "<title>2654535422304</title>\n",
       "<polygon fill=\"none\" stroke=\"black\" points=\"300.75,-28.5 300.75,-64.5 477,-64.5 477,-28.5 300.75,-28.5\"/>\n",
       "<text text-anchor=\"middle\" x=\"311.75\" y=\"-41.7\" font-family=\"Times New Roman,serif\" font-size=\"14.00\">c</text>\n",
       "<polyline fill=\"none\" stroke=\"black\" points=\"322.75,-29 322.75,-64.5\"/>\n",
       "<text text-anchor=\"middle\" x=\"366\" y=\"-41.7\" font-family=\"Times New Roman,serif\" font-size=\"14.00\">data 10.0000</text>\n",
       "<polyline fill=\"none\" stroke=\"black\" points=\"409.25,-29 409.25,-64.5\"/>\n",
       "<text text-anchor=\"middle\" x=\"443.12\" y=\"-41.7\" font-family=\"Times New Roman,serif\" font-size=\"14.00\">grad 0.00</text>\n",
       "</g>\n",
       "<!-- 2654535422304&#45;&gt;2654535422784+ -->\n",
       "<g id=\"edge5\" class=\"edge\">\n",
       "<title>2654535422304&#45;&gt;2654535422784+</title>\n",
       "<path fill=\"none\" stroke=\"black\" d=\"M477.48,-62.36C486.24,-63.95 494.75,-65.49 502.51,-66.89\"/>\n",
       "<polygon fill=\"black\" stroke=\"black\" points=\"501.69,-70.3 512.15,-68.64 502.93,-63.41 501.69,-70.3\"/>\n",
       "</g>\n",
       "<!-- 2654535427488 -->\n",
       "<g id=\"node10\" class=\"node\">\n",
       "<title>2654535427488</title>\n",
       "<polygon fill=\"none\" stroke=\"black\" points=\"603,-0.5 603,-36.5 775.5,-36.5 775.5,-0.5 603,-0.5\"/>\n",
       "<text text-anchor=\"middle\" x=\"613.25\" y=\"-13.7\" font-family=\"Times New Roman,serif\" font-size=\"14.00\">f</text>\n",
       "<polyline fill=\"none\" stroke=\"black\" points=\"623.5,-1 623.5,-36.5\"/>\n",
       "<text text-anchor=\"middle\" x=\"665.62\" y=\"-13.7\" font-family=\"Times New Roman,serif\" font-size=\"14.00\">data &#45;2.0000</text>\n",
       "<polyline fill=\"none\" stroke=\"black\" points=\"707.75,-1 707.75,-36.5\"/>\n",
       "<text text-anchor=\"middle\" x=\"741.62\" y=\"-13.7\" font-family=\"Times New Roman,serif\" font-size=\"14.00\">grad 4.00</text>\n",
       "</g>\n",
       "<!-- 2654535427488&#45;&gt;2654535432432* -->\n",
       "<g id=\"edge7\" class=\"edge\">\n",
       "<title>2654535427488&#45;&gt;2654535432432*</title>\n",
       "<path fill=\"none\" stroke=\"black\" d=\"M775.91,-34.21C784.65,-35.81 793.15,-37.37 800.92,-38.79\"/>\n",
       "<polygon fill=\"black\" stroke=\"black\" points=\"800.11,-42.2 810.57,-40.56 801.37,-35.32 800.11,-42.2\"/>\n",
       "</g>\n",
       "</g>\n",
       "</svg>\n"
      ],
      "text/plain": [
       "<graphviz.graphs.Digraph at 0x26a0e5ff4a0>"
      ]
     },
     "execution_count": 113,
     "metadata": {},
     "output_type": "execute_result"
    }
   ],
   "source": [
    "draw_dot(L)"
   ]
  },
  {
   "cell_type": "code",
   "execution_count": 112,
   "id": "6c7ffd2a-fc58-4611-9968-0bfa4b04d6ca",
   "metadata": {},
   "outputs": [
    {
     "name": "stdout",
     "output_type": "stream",
     "text": [
      "derivate dL/df = 3.9999999999995595\n"
     ]
    }
   ],
   "source": [
    "h = 0.001\n",
    "derivative_f = ((f.data+h)*d.data - f.data*d.data)/h\n",
    "print(f\"derivate dL/df = {derivative_f}\")\n",
    "L.grad = 1\n",
    "f.grad = 4\n",
    "d.grad = 2\n"
   ]
  },
  {
   "cell_type": "code",
   "execution_count": null,
   "id": "a08c499b-3a61-4c8c-b376-9b6e838951a4",
   "metadata": {},
   "outputs": [],
   "source": []
  }
 ],
 "metadata": {
  "kernelspec": {
   "display_name": "Python 3 (ipykernel)",
   "language": "python",
   "name": "python3"
  },
  "language_info": {
   "codemirror_mode": {
    "name": "ipython",
    "version": 3
   },
   "file_extension": ".py",
   "mimetype": "text/x-python",
   "name": "python",
   "nbconvert_exporter": "python",
   "pygments_lexer": "ipython3",
   "version": "3.12.6"
  }
 },
 "nbformat": 4,
 "nbformat_minor": 5
}
